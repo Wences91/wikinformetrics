{
 "cells": [
  {
   "cell_type": "markdown",
   "id": "667353fd",
   "metadata": {},
   "source": [
    "# Libraries"
   ]
  },
  {
   "cell_type": "code",
   "execution_count": 1,
   "id": "52a22470",
   "metadata": {},
   "outputs": [],
   "source": [
    "import pandas as pd"
   ]
  },
  {
   "cell_type": "markdown",
   "id": "f60073dd",
   "metadata": {},
   "source": [
    "<b>Aim</b>: This script creates two dataframes with the linked and linking frequencies by pages."
   ]
  },
  {
   "cell_type": "markdown",
   "id": "f3d48260",
   "metadata": {},
   "source": [
    "# Internal links"
   ]
  },
  {
   "cell_type": "code",
   "execution_count": 2,
   "id": "71d52ff6",
   "metadata": {},
   "outputs": [
    {
     "data": {
      "text/html": [
       "<div>\n",
       "<style scoped>\n",
       "    .dataframe tbody tr th:only-of-type {\n",
       "        vertical-align: middle;\n",
       "    }\n",
       "\n",
       "    .dataframe tbody tr th {\n",
       "        vertical-align: top;\n",
       "    }\n",
       "\n",
       "    .dataframe thead th {\n",
       "        text-align: right;\n",
       "    }\n",
       "</style>\n",
       "<table border=\"1\" class=\"dataframe\">\n",
       "  <thead>\n",
       "    <tr style=\"text-align: right;\">\n",
       "      <th></th>\n",
       "      <th>page_id</th>\n",
       "      <th>linked_page_id</th>\n",
       "    </tr>\n",
       "  </thead>\n",
       "  <tbody>\n",
       "    <tr>\n",
       "      <th>0</th>\n",
       "      <td>4748</td>\n",
       "      <td>5878274</td>\n",
       "    </tr>\n",
       "    <tr>\n",
       "      <th>1</th>\n",
       "      <td>9773</td>\n",
       "      <td>5878274</td>\n",
       "    </tr>\n",
       "    <tr>\n",
       "      <th>2</th>\n",
       "      <td>15154</td>\n",
       "      <td>5878274</td>\n",
       "    </tr>\n",
       "    <tr>\n",
       "      <th>3</th>\n",
       "      <td>25213</td>\n",
       "      <td>5878274</td>\n",
       "    </tr>\n",
       "    <tr>\n",
       "      <th>4</th>\n",
       "      <td>73634</td>\n",
       "      <td>5878274</td>\n",
       "    </tr>\n",
       "    <tr>\n",
       "      <th>...</th>\n",
       "      <td>...</td>\n",
       "      <td>...</td>\n",
       "    </tr>\n",
       "    <tr>\n",
       "      <th>566536986</th>\n",
       "      <td>9853359</td>\n",
       "      <td>63389944</td>\n",
       "    </tr>\n",
       "    <tr>\n",
       "      <th>566536987</th>\n",
       "      <td>49729654</td>\n",
       "      <td>63389945</td>\n",
       "    </tr>\n",
       "    <tr>\n",
       "      <th>566536988</th>\n",
       "      <td>53256679</td>\n",
       "      <td>63389948</td>\n",
       "    </tr>\n",
       "    <tr>\n",
       "      <th>566536989</th>\n",
       "      <td>54266640</td>\n",
       "      <td>63389953</td>\n",
       "    </tr>\n",
       "    <tr>\n",
       "      <th>566536990</th>\n",
       "      <td>59787448</td>\n",
       "      <td>63389953</td>\n",
       "    </tr>\n",
       "  </tbody>\n",
       "</table>\n",
       "<p>566536991 rows × 2 columns</p>\n",
       "</div>"
      ],
      "text/plain": [
       "            page_id  linked_page_id\n",
       "0              4748         5878274\n",
       "1              9773         5878274\n",
       "2             15154         5878274\n",
       "3             25213         5878274\n",
       "4             73634         5878274\n",
       "...             ...             ...\n",
       "566536986   9853359        63389944\n",
       "566536987  49729654        63389945\n",
       "566536988  53256679        63389948\n",
       "566536989  54266640        63389953\n",
       "566536990  59787448        63389953\n",
       "\n",
       "[566536991 rows x 2 columns]"
      ]
     },
     "execution_count": 2,
     "metadata": {},
     "output_type": "execute_result"
    }
   ],
   "source": [
    "df = pd.read_csv('data/page_link.tsv', sep='\\t')\n",
    "df"
   ]
  },
  {
   "cell_type": "markdown",
   "id": "30fbf6da",
   "metadata": {},
   "source": [
    "Linked frequencies are calculated."
   ]
  },
  {
   "cell_type": "code",
   "execution_count": 3,
   "id": "0c2b414e",
   "metadata": {},
   "outputs": [
    {
     "data": {
      "text/html": [
       "<div>\n",
       "<style scoped>\n",
       "    .dataframe tbody tr th:only-of-type {\n",
       "        vertical-align: middle;\n",
       "    }\n",
       "\n",
       "    .dataframe tbody tr th {\n",
       "        vertical-align: top;\n",
       "    }\n",
       "\n",
       "    .dataframe thead th {\n",
       "        text-align: right;\n",
       "    }\n",
       "</style>\n",
       "<table border=\"1\" class=\"dataframe\">\n",
       "  <thead>\n",
       "    <tr style=\"text-align: right;\">\n",
       "      <th></th>\n",
       "      <th>page_id</th>\n",
       "      <th>linked</th>\n",
       "    </tr>\n",
       "  </thead>\n",
       "  <tbody>\n",
       "    <tr>\n",
       "      <th>0</th>\n",
       "      <td>12</td>\n",
       "      <td>4130</td>\n",
       "    </tr>\n",
       "    <tr>\n",
       "      <th>1</th>\n",
       "      <td>25</td>\n",
       "      <td>2454</td>\n",
       "    </tr>\n",
       "    <tr>\n",
       "      <th>2</th>\n",
       "      <td>39</td>\n",
       "      <td>1428</td>\n",
       "    </tr>\n",
       "    <tr>\n",
       "      <th>3</th>\n",
       "      <td>53</td>\n",
       "      <td>23</td>\n",
       "    </tr>\n",
       "    <tr>\n",
       "      <th>4</th>\n",
       "      <td>290</td>\n",
       "      <td>823</td>\n",
       "    </tr>\n",
       "    <tr>\n",
       "      <th>...</th>\n",
       "      <td>...</td>\n",
       "      <td>...</td>\n",
       "    </tr>\n",
       "    <tr>\n",
       "      <th>9824257</th>\n",
       "      <td>68103340</td>\n",
       "      <td>1</td>\n",
       "    </tr>\n",
       "    <tr>\n",
       "      <th>9824258</th>\n",
       "      <td>68103353</td>\n",
       "      <td>15</td>\n",
       "    </tr>\n",
       "    <tr>\n",
       "      <th>9824259</th>\n",
       "      <td>68103355</td>\n",
       "      <td>1</td>\n",
       "    </tr>\n",
       "    <tr>\n",
       "      <th>9824260</th>\n",
       "      <td>68103359</td>\n",
       "      <td>1</td>\n",
       "    </tr>\n",
       "    <tr>\n",
       "      <th>9824261</th>\n",
       "      <td>68103373</td>\n",
       "      <td>1</td>\n",
       "    </tr>\n",
       "  </tbody>\n",
       "</table>\n",
       "<p>9824262 rows × 2 columns</p>\n",
       "</div>"
      ],
      "text/plain": [
       "          page_id  linked\n",
       "0              12    4130\n",
       "1              25    2454\n",
       "2              39    1428\n",
       "3              53      23\n",
       "4             290     823\n",
       "...           ...     ...\n",
       "9824257  68103340       1\n",
       "9824258  68103353      15\n",
       "9824259  68103355       1\n",
       "9824260  68103359       1\n",
       "9824261  68103373       1\n",
       "\n",
       "[9824262 rows x 2 columns]"
      ]
     },
     "execution_count": 3,
     "metadata": {},
     "output_type": "execute_result"
    }
   ],
   "source": [
    "df1 = df[['linked_page_id']].groupby(['linked_page_id']).size().reset_index(name='linked')\n",
    "df1.rename({'linked_page_id':'page_id'}, axis=1, inplace=True)\n",
    "df1"
   ]
  },
  {
   "cell_type": "markdown",
   "id": "f6f2336a",
   "metadata": {},
   "source": [
    "Linked frequencies are exported."
   ]
  },
  {
   "cell_type": "code",
   "execution_count": 4,
   "id": "060ac5b4",
   "metadata": {},
   "outputs": [],
   "source": [
    "df1.to_csv('data/page_linked_freq.tsv', sep='\\t', index=False)"
   ]
  },
  {
   "cell_type": "markdown",
   "id": "c4ee05b8",
   "metadata": {},
   "source": [
    "Linking frequencies are calculated."
   ]
  },
  {
   "cell_type": "code",
   "execution_count": 5,
   "id": "08084c16",
   "metadata": {},
   "outputs": [
    {
     "data": {
      "text/html": [
       "<div>\n",
       "<style scoped>\n",
       "    .dataframe tbody tr th:only-of-type {\n",
       "        vertical-align: middle;\n",
       "    }\n",
       "\n",
       "    .dataframe tbody tr th {\n",
       "        vertical-align: top;\n",
       "    }\n",
       "\n",
       "    .dataframe thead th {\n",
       "        text-align: right;\n",
       "    }\n",
       "</style>\n",
       "<table border=\"1\" class=\"dataframe\">\n",
       "  <thead>\n",
       "    <tr style=\"text-align: right;\">\n",
       "      <th></th>\n",
       "      <th>page_id</th>\n",
       "      <th>links</th>\n",
       "    </tr>\n",
       "  </thead>\n",
       "  <tbody>\n",
       "    <tr>\n",
       "      <th>0</th>\n",
       "      <td>10</td>\n",
       "      <td>3</td>\n",
       "    </tr>\n",
       "    <tr>\n",
       "      <th>1</th>\n",
       "      <td>12</td>\n",
       "      <td>1541</td>\n",
       "    </tr>\n",
       "    <tr>\n",
       "      <th>2</th>\n",
       "      <td>13</td>\n",
       "      <td>3</td>\n",
       "    </tr>\n",
       "    <tr>\n",
       "      <th>3</th>\n",
       "      <td>14</td>\n",
       "      <td>3</td>\n",
       "    </tr>\n",
       "    <tr>\n",
       "      <th>4</th>\n",
       "      <td>15</td>\n",
       "      <td>3</td>\n",
       "    </tr>\n",
       "    <tr>\n",
       "      <th>...</th>\n",
       "      <td>...</td>\n",
       "      <td>...</td>\n",
       "    </tr>\n",
       "    <tr>\n",
       "      <th>15958747</th>\n",
       "      <td>68102338</td>\n",
       "      <td>1</td>\n",
       "    </tr>\n",
       "    <tr>\n",
       "      <th>15958748</th>\n",
       "      <td>68102341</td>\n",
       "      <td>5</td>\n",
       "    </tr>\n",
       "    <tr>\n",
       "      <th>15958749</th>\n",
       "      <td>68102343</td>\n",
       "      <td>1</td>\n",
       "    </tr>\n",
       "    <tr>\n",
       "      <th>15958750</th>\n",
       "      <td>68102349</td>\n",
       "      <td>1</td>\n",
       "    </tr>\n",
       "    <tr>\n",
       "      <th>15958751</th>\n",
       "      <td>68102577</td>\n",
       "      <td>14</td>\n",
       "    </tr>\n",
       "  </tbody>\n",
       "</table>\n",
       "<p>15958752 rows × 2 columns</p>\n",
       "</div>"
      ],
      "text/plain": [
       "           page_id  links\n",
       "0               10      3\n",
       "1               12   1541\n",
       "2               13      3\n",
       "3               14      3\n",
       "4               15      3\n",
       "...            ...    ...\n",
       "15958747  68102338      1\n",
       "15958748  68102341      5\n",
       "15958749  68102343      1\n",
       "15958750  68102349      1\n",
       "15958751  68102577     14\n",
       "\n",
       "[15958752 rows x 2 columns]"
      ]
     },
     "execution_count": 5,
     "metadata": {},
     "output_type": "execute_result"
    }
   ],
   "source": [
    "df2 = df[['page_id']].groupby(['page_id']).size().reset_index(name='links')\n",
    "df2"
   ]
  },
  {
   "cell_type": "markdown",
   "id": "ccda1e39",
   "metadata": {},
   "source": [
    "Linking frequencies are exported."
   ]
  },
  {
   "cell_type": "code",
   "execution_count": 6,
   "id": "26c25a43",
   "metadata": {},
   "outputs": [],
   "source": [
    "df2.to_csv('data/page_links_freq.tsv', sep='\\t', index=False)"
   ]
  }
 ],
 "metadata": {
  "kernelspec": {
   "display_name": "Python 3 (ipykernel)",
   "language": "python",
   "name": "python3"
  },
  "language_info": {
   "codemirror_mode": {
    "name": "ipython",
    "version": 3
   },
   "file_extension": ".py",
   "mimetype": "text/x-python",
   "name": "python",
   "nbconvert_exporter": "python",
   "pygments_lexer": "ipython3",
   "version": "3.8.8"
  }
 },
 "nbformat": 4,
 "nbformat_minor": 5
}
